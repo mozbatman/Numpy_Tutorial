{
 "cells": [
  {
   "cell_type": "markdown",
   "metadata": {},
   "source": [
    "# NumPy - Data Types"
   ]
  },
  {
   "cell_type": "markdown",
   "metadata": {},
   "source": [
    "NumPy supports a much greater variety of numerical types than Python does. The following table shows different scalar data types defined in NumPy.\n",
    "\n",
    "(NumPy, Python'dan çok daha fazla sayıda sayısal tipi destekler. Aşağıdaki tabloda NumPy'de tanımlanan farklı skaler veri tipleri gösterilmektedir.)"
   ]
  },
  {
   "cell_type": "markdown",
   "metadata": {},
   "source": [
    "\t\n",
    "bool_ =>\n",
    "Boolean (True or False) stored as a byte\n",
    "\n",
    "int_ =>\n",
    "Default integer type (same as C long; normally either int64 or int32)\n",
    "\n",
    "intc =>\n",
    "Identical to C int (normally int32 or int64)\n",
    "\t\n",
    "intp =>\n",
    "Integer used for indexing (same as C ssize_t; normally either int32 or int64)\n",
    "\n",
    "int8 =>\n",
    "Byte (-128 to 127)\n",
    "\t\n",
    "int16 =>\n",
    "Integer (-32768 to 32767)\n",
    "\n",
    "int32 =>\n",
    "Integer (-2147483648 to 2147483647)\n",
    "\t\n",
    "int64 =>\n",
    "Integer (-9223372036854775808 to 9223372036854775807)\n",
    "\t\n",
    "uint8 =>\n",
    "Unsigned integer (0 to 255)\n",
    "\t\n",
    "uint16 =>\n",
    "Unsigned integer (0 to 65535)\n",
    "\n",
    "uint32 =>\n",
    "Unsigned integer (0 to 4294967295)\n",
    "\n",
    "uint64 =>\n",
    "Unsigned integer (0 to 18446744073709551615)\n",
    "\n",
    "float_ =>\n",
    "Shorthand for float64\n",
    "\n",
    "float16 =>\n",
    "Half precision float: sign bit, 5 bits exponent, 10 bits mantissa\n",
    "\t\n",
    "float32 =>\n",
    "Single precision float: sign bit, 8 bits exponent, 23 bits mantissa\n",
    "\n",
    "float64 =>\n",
    "Double precision float: sign bit, 11 bits exponent, 52 bits mantissa\n",
    "\n",
    "complex_ =>\n",
    "Shorthand for complex128\n",
    "\n",
    "complex64 =>\n",
    "Complex number, represented by two 32-bit floats (real and imaginary components)\n",
    " \n",
    "complex128 =>\n",
    "Complex number, represented by two 64-bit floats (real and imaginary components)"
   ]
  },
  {
   "cell_type": "code",
   "execution_count": 2,
   "metadata": {},
   "outputs": [
    {
     "name": "stdout",
     "output_type": "stream",
     "text": [
      "int32\n"
     ]
    }
   ],
   "source": [
    "import numpy as np \n",
    "dt = np.dtype(np.int32) \n",
    "print(dt)"
   ]
  },
  {
   "cell_type": "code",
   "execution_count": 4,
   "metadata": {},
   "outputs": [
    {
     "name": "stdout",
     "output_type": "stream",
     "text": [
      "int32\n"
     ]
    }
   ],
   "source": [
    "#int8, int16, int32, int64 can be replaced by equivalent string 'i1', 'i2','i4', etc. \n",
    "import numpy as np \n",
    "\n",
    "dt = np.dtype('i4')\n",
    "print (dt)"
   ]
  },
  {
   "cell_type": "code",
   "execution_count": 5,
   "metadata": {},
   "outputs": [
    {
     "name": "stdout",
     "output_type": "stream",
     "text": [
      ">i4\n"
     ]
    }
   ],
   "source": [
    "# using endian notation \n",
    "import numpy as np \n",
    "dt = np.dtype('>i4') \n",
    "print (dt)"
   ]
  },
  {
   "cell_type": "code",
   "execution_count": 6,
   "metadata": {},
   "outputs": [
    {
     "name": "stdout",
     "output_type": "stream",
     "text": [
      "[(10,) (20,) (30,)]\n"
     ]
    }
   ],
   "source": [
    "# now apply it to ndarray object \n",
    "import numpy as np \n",
    "\n",
    "dt = np.dtype([('age',np.int8)]) \n",
    "a = np.array([(10,),(20,),(30,)], dtype = dt) \n",
    "print (a)"
   ]
  },
  {
   "cell_type": "code",
   "execution_count": 7,
   "metadata": {},
   "outputs": [
    {
     "name": "stdout",
     "output_type": "stream",
     "text": [
      "[10 20 30]\n"
     ]
    }
   ],
   "source": [
    "# file name can be used to access content of age column \n",
    "import numpy as np \n",
    "\n",
    "dt = np.dtype([('age',np.int8)]) \n",
    "a = np.array([(10,),(20,),(30,)], dtype = dt) \n",
    "print (a['age'])"
   ]
  },
  {
   "cell_type": "markdown",
   "metadata": {},
   "source": [
    "Each built-in data type has a character code that uniquely identifies it.\n",
    "\n",
    "'b' − boolean\n",
    "\n",
    "'i' − (signed) integer\n",
    "\n",
    "'u' − unsigned integer\n",
    "\n",
    "'f' − floating-point\n",
    "\n",
    "'c' − complex-floating point\n",
    "\n",
    "'m' − timedelta\n",
    "\n",
    "'M' − datetime\n",
    "\n",
    "'O' − (Python) objects\n",
    "\n",
    "'S', 'a' − (byte-)string\n",
    "\n",
    "'U' − Unicode\n",
    "\n",
    "'V' − raw data (void)"
   ]
  },
  {
   "cell_type": "code",
   "execution_count": null,
   "metadata": {},
   "outputs": [],
   "source": []
  }
 ],
 "metadata": {
  "kernelspec": {
   "display_name": "Python 3",
   "language": "python",
   "name": "python3"
  },
  "language_info": {
   "codemirror_mode": {
    "name": "ipython",
    "version": 3
   },
   "file_extension": ".py",
   "mimetype": "text/x-python",
   "name": "python",
   "nbconvert_exporter": "python",
   "pygments_lexer": "ipython3",
   "version": "3.7.4"
  }
 },
 "nbformat": 4,
 "nbformat_minor": 2
}
