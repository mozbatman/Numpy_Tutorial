{
 "cells": [
  {
   "cell_type": "markdown",
   "metadata": {},
   "source": [
    "<h1> Numpy Tutorial"
   ]
  },
  {
   "cell_type": "markdown",
   "metadata": {},
   "source": [
    "NumPy is a Python package. It stands for 'Numerical Python'. It is a library consisting of multidimensional array objects and a collection of routines for processing of array.\n",
    "\n",
    "(NumPy bir Python paketidir. 'Sayısal Python' anlamına gelir. Çok boyutlu dizi nesnelerinden oluşan bir kütüphane ve dizinin işlenmesi için yordamlar topluluğudur.)"
   ]
  },
  {
   "cell_type": "markdown",
   "metadata": {},
   "source": [
    "Mathematical and logical operations on arrays.\n",
    "\n",
    "Fourier transforms and routines for shape manipulation.\n",
    "\n",
    "Operations related to linear algebra. NumPy has in-built functions for linear algebra and random number generation.\n",
    "\n",
    "(\n",
    "Dizilerde matematiksel ve mantıksal işlemler.\n",
    "\n",
    "Fourier, şekil manipülasyonu için dönüşümler ve rutinler.\n",
    "\n",
    "Doğrusal cebirle ilgili işlemler. NumPy, doğrusal cebir ve rasgele sayı üretimi için yerleşik işlevlere sahiptir.\n",
    ")"
   ]
  },
  {
   "cell_type": "markdown",
   "metadata": {},
   "source": []
  },
  {
   "cell_type": "markdown",
   "metadata": {},
   "source": [
    "\n"
   ]
  },
  {
   "cell_type": "code",
   "execution_count": null,
   "metadata": {},
   "outputs": [],
   "source": []
  },
  {
   "cell_type": "code",
   "execution_count": null,
   "metadata": {},
   "outputs": [],
   "source": []
  }
 ],
 "metadata": {
  "kernelspec": {
   "display_name": "Python 3",
   "language": "python",
   "name": "python3"
  },
  "language_info": {
   "codemirror_mode": {
    "name": "ipython",
    "version": 3
   },
   "file_extension": ".py",
   "mimetype": "text/x-python",
   "name": "python",
   "nbconvert_exporter": "python",
   "pygments_lexer": "ipython3",
   "version": "3.7.4"
  }
 },
 "nbformat": 4,
 "nbformat_minor": 2
}
