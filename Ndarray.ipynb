{
 "cells": [
  {
   "cell_type": "markdown",
   "metadata": {},
   "source": [
    "# Ndarray"
   ]
  },
  {
   "cell_type": "markdown",
   "metadata": {},
   "source": [
    "The most important object defined in NumPy is an N-dimensional array type called ndarray. It describes the collection of items of the same type. Items in the collection can be accessed using a zero-based index.\n",
    "\n",
    "Every item in an ndarray takes the same size of block in the memory. Each element in ndarray is an object of data-type object (called dtype).\n",
    "\n",
    "Any item extracted from ndarray object (by slicing) is represented by a Python object of one of array scalar types. The following diagram shows a relationship between ndarray, data type object (dtype) and array scalar type −\n",
    "\n",
    "(NumPy'de tanımlanan en önemli nesne ndarray adı verilen N boyutlu bir dizi türüdür. Aynı türdeki öğelerin koleksiyonunu açıklar. Koleksiyondaki öğelere, sıfır temelli bir dizin kullanılarak erişilebilir.\n",
    "\n",
    "Bir ndarray'deki her öğe, bellekteki aynı boyutta bloğu alır. Ndarray içindeki her öğe, veri türü nesnesinin bir nesnesidir (dtype olarak adlandırılır).\n",
    "\n",
    "Ndarray nesnesinden çıkartılan herhangi bir öğe (dilimleme yoluyla) dizi skalar türlerinden birinin Python nesnesiyle temsil edilir. Aşağıdaki diyagram, ndarray, data type nesnesi (dtype) ve array skalar tipi arasındaki ilişkiyi gösterir -)"
   ]
  },
  {
   "cell_type": "markdown",
   "metadata": {},
   "source": [
    "<img src=\"https://www.tutorialspoint.com/numpy/images/ndarray.jpg\"\n",
    "     alt=\"Markdown Monster icon\"\n",
    "     style=\"float: left; margin-right: 10px;\" />"
   ]
  },
  {
   "cell_type": "markdown",
   "metadata": {},
   "source": [
    "### numpy.array \n",
    "It creates an ndarray from any object exposing array interface, or from any method that returns an array.\n",
    "\n",
    "(Herhangi bir nesne açığa çıkaran dizi arabiriminden veya bir dizi döndüren herhangi bir yöntemden bir ndarray oluşturur.)"
   ]
  },
  {
   "cell_type": "markdown",
   "metadata": {},
   "source": [
    "numpy.array(object, dtype = None, copy = True, order = None, subok = False, ndmin = 0)"
   ]
  },
  {
   "cell_type": "markdown",
   "metadata": {},
   "source": [
    "| Parameter   |      Description      |\n",
    "|----------|:-------------:|\n",
    "| object  |  Any object exposing the array interface method returns an array, or any (nested) sequence.(Dizi arabirim yöntemini açığa vuran herhangi bir nesne bir dizi veya herhangi bir (iç içe) dizi döndürür.)| \n",
    "| dtype |    Desired data type of array, optional (İstenilen veri dizisi türü, isteğe bağlı)   |\n",
    "| copy | Optional. By default (true), the object is copied (İsteğe bağlı. Varsayılan olarak (true), nesne kopyalanır) |  \n",
    "| order | C (row major) or F (column major) or A (any) (default) | \n",
    "| subok | By default, returned array forced to be a base class array. If true, sub-classes passed through (Varsayılan olarak, bir temel sınıf dizisi olmaya zorlanan diziyi döndürdü. Eğer doğruysa, alt sınıflar geçti) |\n",
    "| ndmin | Specifies minimum dimensions of resultant array (Sonuç dizisinin minimum boyutlarını belirtir\n",
    ") |"
   ]
  },
  {
   "cell_type": "code",
   "execution_count": 4,
   "metadata": {},
   "outputs": [
    {
     "name": "stdout",
     "output_type": "stream",
     "text": [
      "[1 2 3]\n"
     ]
    }
   ],
   "source": [
    "import numpy as np \n",
    "a = np.array([1,2,3])\n",
    "print(a)"
   ]
  },
  {
   "cell_type": "code",
   "execution_count": 6,
   "metadata": {},
   "outputs": [
    {
     "name": "stdout",
     "output_type": "stream",
     "text": [
      "[[1 2]\n",
      " [3 4]]\n"
     ]
    }
   ],
   "source": [
    "import numpy as np \n",
    "a = np.array([[1, 2], [3, 4]]) \n",
    "print(a)"
   ]
  },
  {
   "cell_type": "code",
   "execution_count": 7,
   "metadata": {},
   "outputs": [
    {
     "name": "stdout",
     "output_type": "stream",
     "text": [
      "[1 2 3 4 5]\n",
      "[[1 2 3 4 5]]\n"
     ]
    }
   ],
   "source": [
    "# minimum dimensions \n",
    "import numpy as np \n",
    "a = np.array([1,2,3,4,5])\n",
    "b = np.array([1, 2, 3,4,5], ndmin = 2) \n",
    "print(a)\n",
    "print(b)\n"
   ]
  },
  {
   "cell_type": "code",
   "execution_count": 8,
   "metadata": {},
   "outputs": [
    {
     "name": "stdout",
     "output_type": "stream",
     "text": [
      "[1.+0.j 2.+0.j 3.+0.j]\n"
     ]
    }
   ],
   "source": [
    "# dtype parameter \n",
    "import numpy as np \n",
    "a = np.array([1, 2, 3], dtype = complex) \n",
    "print(a)"
   ]
  },
  {
   "cell_type": "code",
   "execution_count": null,
   "metadata": {},
   "outputs": [],
   "source": []
  }
 ],
 "metadata": {
  "kernelspec": {
   "display_name": "Python 3",
   "language": "python",
   "name": "python3"
  },
  "language_info": {
   "codemirror_mode": {
    "name": "ipython",
    "version": 3
   },
   "file_extension": ".py",
   "mimetype": "text/x-python",
   "name": "python",
   "nbconvert_exporter": "python",
   "pygments_lexer": "ipython3",
   "version": "3.7.4"
  }
 },
 "nbformat": 4,
 "nbformat_minor": 2
}
